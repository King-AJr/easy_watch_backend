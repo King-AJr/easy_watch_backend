{
 "cells": [
  {
   "cell_type": "code",
   "execution_count": 23,
   "metadata": {},
   "outputs": [],
   "source": [
    "import subprocess\n",
    "import yt_dlp\n",
    "from groq import Groq\n",
    "\n",
    "def download_audio_to_memory(youtube_url):\n",
    "    # Run yt-dlp to stream the audio to stdout\n",
    "    cmd = ['yt-dlp', '-f', 'bestaudio/best', '-o', '-', youtube_url]\n",
    "    audio_bytes = subprocess.check_output(cmd)\n",
    "    return audio_bytes\n",
    "\n",
    "def transcribe_audio_groq_memory(youtube_url, prompt=\"\"\"\n",
    "        You are a skilled video content analyzer. Create a comprehensive summary of the video\n",
    "        based on its transcript. Include:\n",
    "        1. Main topics and key points\n",
    "        2. Important details and insights\n",
    "        3. Key takeaways\n",
    "        Format the summary in a clear, easy-to-read structure.\n",
    "        \"\"\"\n",
    "        , language=\"en\",\n",
    "        model=\"whisper-large-v3-turbo\", temperature=0.0):\n",
    "    # Initialize the Groq client (replace with your actual API key)\n",
    "    client = Groq(api_key=\"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\")\n",
    "    # Download audio as bytes (no local file is created)\n",
    "    audio_bytes = download_audio_to_memory(youtube_url)\n",
    "    \n",
    "    # Create the transcription by passing the audio bytes directly\n",
    "    transcription = client.audio.transcriptions.create(\n",
    "        file=(\"audio.mp3\", audio_bytes),\n",
    "        model=model,\n",
    "        prompt=prompt,\n",
    "        language=language,\n",
    "        response_format=\"json\",\n",
    "        temperature=temperature\n",
    "    )\n",
    "    return transcription.text\n"
   ]
  },
  {
   "cell_type": "code",
   "execution_count": 27,
   "metadata": {},
   "outputs": [
    {
     "name": "stdout",
     "output_type": "stream",
     "text": [
      " Let's take a look at how you can take your AI IDE like Cursor, Windsurf, Klein or anything else and turn it into a Mastra TypeScript Agent Framework Expert with in-depth knowledge of RAG, agents, workflows, evals, and every other Mastra feature to make it easier for you to build agents with Mastra. So this is done with our new Mastra MCP Docs server package. This is essentially a plugin for an agent that allows it to query up-to-date Mastra documentation. First, let's take a look at what it can do and why you would want to use it. So I'm over in Cursor here. I've used the Monster CLI to scaffold an example weather agent. And let's just ask Cursor to add memory to our agent. So you can see it called this Monster Docs MCP tool. And it's looking at the memory rate of the memory. reference as well as the memory section of the docs It sees that we need this package master memory It looking to see if it needs to be installed And it going to install it for us And now that it installed it actually going to use the documentation knowledge and add the memory configuration directly to this example weather agent I accept the file Alright so it done and it looks like it did exactly the right thing for memory It installed the memory package We added the memory configuration to our weather agent. So I'll just jump over to my terminal and let's run it and make sure it actually works. So I've got this dev script in my project. So I did pnpm run dev and then we can look at the master playground. We've got our weather agent. So you'll notice now we have this chat history on the side. This is enabled by adding memory to an agent. So it looks like it definitely worked. Now that we've seen a little bit of how it works, let's scaffold a new project. So if you head over to master.ai, you can copy this getting We go back to the terminal and run it We give our project a name It go through the regular install installing dependencies installing Mastra And I going to use all defaults since it doesn really matter for this demo It needs to be enabled The first time you run this this little yellow dot will be there for a while What happening is it downloading the npm package and installing it and sometimes that takes a little bit of time We just waiting for this yellow dot to turn green Sometimes you actually have to refresh it And there we go So the Mastra MCP Docs server is now installed in Cursor and Configure If you need more info than what's in this video, you can head over to monster.ai, go to Docs, and then click on Agent Code Editor Tools in the sidebar here. This will also show you how to add the MCP Docs server to a monster project that you've already created that you aren't scaffolding new or, you know, to another MCP client like Klein Goose or something like that. There are some examples of prompts that you can make. adding features asking about integrations debugging code and so on. We're excited to see how folks use this. So star us on GitHub, head over here, drop a star, join the Discord, and have fun building.\n"
     ]
    }
   ],
   "source": [
    "transcription_text = transcribe_audio_groq_memory(\"https://youtu.be/vciV57lF0og?si=HlSczG4whbOtFMgM\", language=\"en\")\n",
    "print(transcription_text)"
   ]
  },
  {
   "cell_type": "code",
   "execution_count": 28,
   "metadata": {},
   "outputs": [
    {
     "ename": "VideoUnavailable",
     "evalue": "\nCould not retrieve a transcript for the video https://www.youtube.com/watch?v=KSqYTRC2bPrT3NM0! This is most likely caused by:\n\nThe video is no longer available\n\nIf you are sure that the described cause is not responsible for this error and that a transcript should be retrievable, please create an issue at https://github.com/jdepoix/youtube-transcript-api/issues. Please add which version of youtube_transcript_api you are using and provide the information needed to replicate the error. Also make sure that there are no open issues which already describe your problem!",
     "output_type": "error",
     "traceback": [
      "\u001b[31m---------------------------------------------------------------------------\u001b[39m",
      "\u001b[31mVideoUnavailable\u001b[39m                          Traceback (most recent call last)",
      "\u001b[36mCell\u001b[39m\u001b[36m \u001b[39m\u001b[32mIn[28]\u001b[39m\u001b[32m, line 4\u001b[39m\n\u001b[32m      1\u001b[39m \u001b[38;5;28;01mfrom\u001b[39;00m\u001b[38;5;250m \u001b[39m\u001b[34;01myoutube_transcript_api\u001b[39;00m\u001b[38;5;250m \u001b[39m\u001b[38;5;28;01mimport\u001b[39;00m YouTubeTranscriptApi\n\u001b[32m      3\u001b[39m ytt_api = YouTubeTranscriptApi()\n\u001b[32m----> \u001b[39m\u001b[32m4\u001b[39m \u001b[43mytt_api\u001b[49m\u001b[43m.\u001b[49m\u001b[43mfetch\u001b[49m\u001b[43m(\u001b[49m\u001b[33;43m\"\u001b[39;49m\u001b[33;43mKSqYTRC2bPrT3NM0\u001b[39;49m\u001b[33;43m\"\u001b[39;49m\u001b[43m)\u001b[49m\n",
      "\u001b[36mFile \u001b[39m\u001b[32mc:\\Users\\BUYPC COMPUTERS\\Documents\\GitHub\\easy_watch_backend\\.venv\\Lib\\site-packages\\youtube_transcript_api\\_api.py:75\u001b[39m, in \u001b[36mYouTubeTranscriptApi.fetch\u001b[39m\u001b[34m(self, video_id, languages, preserve_formatting)\u001b[39m\n\u001b[32m     55\u001b[39m \u001b[38;5;28;01mdef\u001b[39;00m\u001b[38;5;250m \u001b[39m\u001b[34mfetch\u001b[39m(\n\u001b[32m     56\u001b[39m     \u001b[38;5;28mself\u001b[39m,\n\u001b[32m     57\u001b[39m     video_id: \u001b[38;5;28mstr\u001b[39m,\n\u001b[32m     58\u001b[39m     languages: Iterable[\u001b[38;5;28mstr\u001b[39m] = (\u001b[33m\"\u001b[39m\u001b[33men\u001b[39m\u001b[33m\"\u001b[39m,),\n\u001b[32m     59\u001b[39m     preserve_formatting: \u001b[38;5;28mbool\u001b[39m = \u001b[38;5;28;01mFalse\u001b[39;00m,\n\u001b[32m     60\u001b[39m ) -> FetchedTranscript:\n\u001b[32m     61\u001b[39m \u001b[38;5;250m    \u001b[39m\u001b[33;03m\"\"\"\u001b[39;00m\n\u001b[32m     62\u001b[39m \u001b[33;03m    Retrieves the transcript for a single video. This is just a shortcut for\u001b[39;00m\n\u001b[32m     63\u001b[39m \u001b[33;03m    calling:\u001b[39;00m\n\u001b[32m   (...)\u001b[39m\u001b[32m     72\u001b[39m \u001b[33;03m    :param preserve_formatting: whether to keep select HTML text formatting\u001b[39;00m\n\u001b[32m     73\u001b[39m \u001b[33;03m    \"\"\"\u001b[39;00m\n\u001b[32m     74\u001b[39m     \u001b[38;5;28;01mreturn\u001b[39;00m (\n\u001b[32m---> \u001b[39m\u001b[32m75\u001b[39m         \u001b[38;5;28;43mself\u001b[39;49m\u001b[43m.\u001b[49m\u001b[43mlist\u001b[49m\u001b[43m(\u001b[49m\u001b[43mvideo_id\u001b[49m\u001b[43m)\u001b[49m\n\u001b[32m     76\u001b[39m         .find_transcript(languages)\n\u001b[32m     77\u001b[39m         .fetch(preserve_formatting=preserve_formatting)\n\u001b[32m     78\u001b[39m     )\n",
      "\u001b[36mFile \u001b[39m\u001b[32mc:\\Users\\BUYPC COMPUTERS\\Documents\\GitHub\\easy_watch_backend\\.venv\\Lib\\site-packages\\youtube_transcript_api\\_api.py:131\u001b[39m, in \u001b[36mYouTubeTranscriptApi.list\u001b[39m\u001b[34m(self, video_id)\u001b[39m\n\u001b[32m     80\u001b[39m \u001b[38;5;28;01mdef\u001b[39;00m\u001b[38;5;250m \u001b[39m\u001b[34mlist\u001b[39m(\n\u001b[32m     81\u001b[39m     \u001b[38;5;28mself\u001b[39m,\n\u001b[32m     82\u001b[39m     video_id: \u001b[38;5;28mstr\u001b[39m,\n\u001b[32m     83\u001b[39m ) -> TranscriptList:\n\u001b[32m     84\u001b[39m \u001b[38;5;250m    \u001b[39m\u001b[33;03m\"\"\"\u001b[39;00m\n\u001b[32m     85\u001b[39m \u001b[33;03m    Retrieves the list of transcripts which are available for a given video. It\u001b[39;00m\n\u001b[32m     86\u001b[39m \u001b[33;03m    returns a `TranscriptList` object which is iterable and provides methods to\u001b[39;00m\n\u001b[32m   (...)\u001b[39m\u001b[32m    129\u001b[39m \u001b[33;03m        Make sure that this is the actual ID, NOT the full URL to the video!\u001b[39;00m\n\u001b[32m    130\u001b[39m \u001b[33;03m    \"\"\"\u001b[39;00m\n\u001b[32m--> \u001b[39m\u001b[32m131\u001b[39m     \u001b[38;5;28;01mreturn\u001b[39;00m \u001b[38;5;28;43mself\u001b[39;49m\u001b[43m.\u001b[49m\u001b[43m_fetcher\u001b[49m\u001b[43m.\u001b[49m\u001b[43mfetch\u001b[49m\u001b[43m(\u001b[49m\u001b[43mvideo_id\u001b[49m\u001b[43m)\u001b[49m\n",
      "\u001b[36mFile \u001b[39m\u001b[32mc:\\Users\\BUYPC COMPUTERS\\Documents\\GitHub\\easy_watch_backend\\.venv\\Lib\\site-packages\\youtube_transcript_api\\_transcripts.py:351\u001b[39m, in \u001b[36mTranscriptListFetcher.fetch\u001b[39m\u001b[34m(self, video_id)\u001b[39m\n\u001b[32m    347\u001b[39m \u001b[38;5;28;01mdef\u001b[39;00m\u001b[38;5;250m \u001b[39m\u001b[34mfetch\u001b[39m(\u001b[38;5;28mself\u001b[39m, video_id: \u001b[38;5;28mstr\u001b[39m) -> TranscriptList:\n\u001b[32m    348\u001b[39m     \u001b[38;5;28;01mreturn\u001b[39;00m TranscriptList.build(\n\u001b[32m    349\u001b[39m         \u001b[38;5;28mself\u001b[39m._http_client,\n\u001b[32m    350\u001b[39m         video_id,\n\u001b[32m--> \u001b[39m\u001b[32m351\u001b[39m         \u001b[38;5;28;43mself\u001b[39;49m\u001b[43m.\u001b[49m\u001b[43m_fetch_captions_json\u001b[49m\u001b[43m(\u001b[49m\u001b[43mvideo_id\u001b[49m\u001b[43m)\u001b[49m,\n\u001b[32m    352\u001b[39m     )\n",
      "\u001b[36mFile \u001b[39m\u001b[32mc:\\Users\\BUYPC COMPUTERS\\Documents\\GitHub\\easy_watch_backend\\.venv\\Lib\\site-packages\\youtube_transcript_api\\_transcripts.py:356\u001b[39m, in \u001b[36mTranscriptListFetcher._fetch_captions_json\u001b[39m\u001b[34m(self, video_id, try_number)\u001b[39m\n\u001b[32m    354\u001b[39m \u001b[38;5;28;01mdef\u001b[39;00m\u001b[38;5;250m \u001b[39m\u001b[34m_fetch_captions_json\u001b[39m(\u001b[38;5;28mself\u001b[39m, video_id: \u001b[38;5;28mstr\u001b[39m, try_number: \u001b[38;5;28mint\u001b[39m = \u001b[32m0\u001b[39m) -> Dict:\n\u001b[32m    355\u001b[39m     \u001b[38;5;28;01mtry\u001b[39;00m:\n\u001b[32m--> \u001b[39m\u001b[32m356\u001b[39m         \u001b[38;5;28;01mreturn\u001b[39;00m \u001b[38;5;28;43mself\u001b[39;49m\u001b[43m.\u001b[49m\u001b[43m_extract_captions_json\u001b[49m\u001b[43m(\u001b[49m\n\u001b[32m    357\u001b[39m \u001b[43m            \u001b[49m\u001b[38;5;28;43mself\u001b[39;49m\u001b[43m.\u001b[49m\u001b[43m_fetch_video_html\u001b[49m\u001b[43m(\u001b[49m\u001b[43mvideo_id\u001b[49m\u001b[43m)\u001b[49m\u001b[43m,\u001b[49m\u001b[43m \u001b[49m\u001b[43mvideo_id\u001b[49m\n\u001b[32m    358\u001b[39m \u001b[43m        \u001b[49m\u001b[43m)\u001b[49m\n\u001b[32m    359\u001b[39m     \u001b[38;5;28;01mexcept\u001b[39;00m RequestBlocked \u001b[38;5;28;01mas\u001b[39;00m exception:\n\u001b[32m    360\u001b[39m         retries = (\n\u001b[32m    361\u001b[39m             \u001b[32m0\u001b[39m\n\u001b[32m    362\u001b[39m             \u001b[38;5;28;01mif\u001b[39;00m \u001b[38;5;28mself\u001b[39m._proxy_config \u001b[38;5;129;01mis\u001b[39;00m \u001b[38;5;28;01mNone\u001b[39;00m\n\u001b[32m    363\u001b[39m             \u001b[38;5;28;01melse\u001b[39;00m \u001b[38;5;28mself\u001b[39m._proxy_config.retries_when_blocked\n\u001b[32m    364\u001b[39m         )\n",
      "\u001b[36mFile \u001b[39m\u001b[32mc:\\Users\\BUYPC COMPUTERS\\Documents\\GitHub\\easy_watch_backend\\.venv\\Lib\\site-packages\\youtube_transcript_api\\_transcripts.py:380\u001b[39m, in \u001b[36mTranscriptListFetcher._extract_captions_json\u001b[39m\u001b[34m(self, html, video_id)\u001b[39m\n\u001b[32m    374\u001b[39m         \u001b[38;5;28;01mraise\u001b[39;00m IpBlocked(video_id)\n\u001b[32m    376\u001b[39m video_data = json.loads(\n\u001b[32m    377\u001b[39m     splitted_html[\u001b[32m1\u001b[39m].split(\u001b[33m\"\u001b[39m\u001b[33m</script>\u001b[39m\u001b[33m\"\u001b[39m)[\u001b[32m0\u001b[39m].strip().rstrip(\u001b[33m\"\u001b[39m\u001b[33m;\u001b[39m\u001b[33m\"\u001b[39m)\n\u001b[32m    378\u001b[39m )\n\u001b[32m--> \u001b[39m\u001b[32m380\u001b[39m \u001b[38;5;28;43mself\u001b[39;49m\u001b[43m.\u001b[49m\u001b[43m_assert_playability\u001b[49m\u001b[43m(\u001b[49m\u001b[43mvideo_data\u001b[49m\u001b[43m.\u001b[49m\u001b[43mget\u001b[49m\u001b[43m(\u001b[49m\u001b[33;43m\"\u001b[39;49m\u001b[33;43mplayabilityStatus\u001b[39;49m\u001b[33;43m\"\u001b[39;49m\u001b[43m)\u001b[49m\u001b[43m,\u001b[49m\u001b[43m \u001b[49m\u001b[43mvideo_id\u001b[49m\u001b[43m)\u001b[49m\n\u001b[32m    382\u001b[39m captions_json = video_data.get(\u001b[33m\"\u001b[39m\u001b[33mcaptions\u001b[39m\u001b[33m\"\u001b[39m, {}).get(\n\u001b[32m    383\u001b[39m     \u001b[33m\"\u001b[39m\u001b[33mplayerCaptionsTracklistRenderer\u001b[39m\u001b[33m\"\u001b[39m\n\u001b[32m    384\u001b[39m )\n\u001b[32m    385\u001b[39m \u001b[38;5;28;01mif\u001b[39;00m captions_json \u001b[38;5;129;01mis\u001b[39;00m \u001b[38;5;28;01mNone\u001b[39;00m \u001b[38;5;129;01mor\u001b[39;00m \u001b[33m\"\u001b[39m\u001b[33mcaptionTracks\u001b[39m\u001b[33m\"\u001b[39m \u001b[38;5;129;01mnot\u001b[39;00m \u001b[38;5;129;01min\u001b[39;00m captions_json:\n",
      "\u001b[36mFile \u001b[39m\u001b[32mc:\\Users\\BUYPC COMPUTERS\\Documents\\GitHub\\easy_watch_backend\\.venv\\Lib\\site-packages\\youtube_transcript_api\\_transcripts.py:408\u001b[39m, in \u001b[36mTranscriptListFetcher._assert_playability\u001b[39m\u001b[34m(self, playability_status_data, video_id)\u001b[39m\n\u001b[32m    406\u001b[39m     \u001b[38;5;28;01mif\u001b[39;00m video_id.startswith(\u001b[33m\"\u001b[39m\u001b[33mhttp://\u001b[39m\u001b[33m\"\u001b[39m) \u001b[38;5;129;01mor\u001b[39;00m video_id.startswith(\u001b[33m\"\u001b[39m\u001b[33mhttps://\u001b[39m\u001b[33m\"\u001b[39m):\n\u001b[32m    407\u001b[39m         \u001b[38;5;28;01mraise\u001b[39;00m InvalidVideoId(video_id)\n\u001b[32m--> \u001b[39m\u001b[32m408\u001b[39m     \u001b[38;5;28;01mraise\u001b[39;00m VideoUnavailable(video_id)\n\u001b[32m    409\u001b[39m subreasons = (\n\u001b[32m    410\u001b[39m     playability_status_data.get(\u001b[33m\"\u001b[39m\u001b[33merrorScreen\u001b[39m\u001b[33m\"\u001b[39m, {})\n\u001b[32m    411\u001b[39m     .get(\u001b[33m\"\u001b[39m\u001b[33mplayerErrorMessageRenderer\u001b[39m\u001b[33m\"\u001b[39m, {})\n\u001b[32m    412\u001b[39m     .get(\u001b[33m\"\u001b[39m\u001b[33msubreason\u001b[39m\u001b[33m\"\u001b[39m, {})\n\u001b[32m    413\u001b[39m     .get(\u001b[33m\"\u001b[39m\u001b[33mruns\u001b[39m\u001b[33m\"\u001b[39m, [])\n\u001b[32m    414\u001b[39m )\n\u001b[32m    415\u001b[39m \u001b[38;5;28;01mraise\u001b[39;00m VideoUnplayable(\n\u001b[32m    416\u001b[39m     video_id, reason, [run.get(\u001b[33m\"\u001b[39m\u001b[33mtext\u001b[39m\u001b[33m\"\u001b[39m, \u001b[33m\"\u001b[39m\u001b[33m\"\u001b[39m) \u001b[38;5;28;01mfor\u001b[39;00m run \u001b[38;5;129;01min\u001b[39;00m subreasons]\n\u001b[32m    417\u001b[39m )\n",
      "\u001b[31mVideoUnavailable\u001b[39m: \nCould not retrieve a transcript for the video https://www.youtube.com/watch?v=KSqYTRC2bPrT3NM0! This is most likely caused by:\n\nThe video is no longer available\n\nIf you are sure that the described cause is not responsible for this error and that a transcript should be retrievable, please create an issue at https://github.com/jdepoix/youtube-transcript-api/issues. Please add which version of youtube_transcript_api you are using and provide the information needed to replicate the error. Also make sure that there are no open issues which already describe your problem!"
     ]
    }
   ],
   "source": [
    "from youtube_transcript_api import YouTubeTranscriptApi\n",
    "\n",
    "ytt_api = YouTubeTranscriptApi()\n",
    "ytt_api.fetch(\"KSqYTRC2bPrT3NM0\")"
   ]
  }
 ],
 "metadata": {
  "kernelspec": {
   "display_name": ".venv",
   "language": "python",
   "name": "python3"
  },
  "language_info": {
   "codemirror_mode": {
    "name": "ipython",
    "version": 3
   },
   "file_extension": ".py",
   "mimetype": "text/x-python",
   "name": "python",
   "nbconvert_exporter": "python",
   "pygments_lexer": "ipython3",
   "version": "3.12.8"
  }
 },
 "nbformat": 4,
 "nbformat_minor": 2
}
